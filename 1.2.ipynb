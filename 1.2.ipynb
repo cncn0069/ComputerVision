{
 "cells": [
  {
   "cell_type": "markdown",
   "metadata": {},
   "source": [
    "# Gui Features in OpenCV"
   ]
  },
  {
   "cell_type": "markdown",
   "metadata": {},
   "source": [
    "# 1.2.1"
   ]
  },
  {
   "cell_type": "code",
   "execution_count": 25,
   "metadata": {},
   "outputs": [],
   "source": [
    "import numpy as np\n",
    "import cv2"
   ]
  },
  {
   "cell_type": "code",
   "execution_count": 26,
   "metadata": {},
   "outputs": [],
   "source": [
    "img = cv2.imread('shutterstock_301585967.jpg')"
   ]
  },
  {
   "cell_type": "code",
   "execution_count": 27,
   "metadata": {},
   "outputs": [],
   "source": [
    "cv2.imshow('images',img)"
   ]
  },
  {
   "cell_type": "code",
   "execution_count": 28,
   "metadata": {},
   "outputs": [
    {
     "data": {
      "text/plain": [
       "115"
      ]
     },
     "execution_count": 28,
     "metadata": {},
     "output_type": "execute_result"
    }
   ],
   "source": [
    "cv2.waitKey(0)"
   ]
  },
  {
   "cell_type": "code",
   "execution_count": 29,
   "metadata": {},
   "outputs": [],
   "source": [
    "cv2.destroyAllWindows()"
   ]
  },
  {
   "cell_type": "code",
   "execution_count": 30,
   "metadata": {},
   "outputs": [
    {
     "ename": "SyntaxError",
     "evalue": "invalid syntax (<ipython-input-30-b5450024612c>, line 6)",
     "output_type": "error",
     "traceback": [
      "\u001b[1;36m  File \u001b[1;32m\"<ipython-input-30-b5450024612c>\"\u001b[1;36m, line \u001b[1;32m6\u001b[0m\n\u001b[1;33m    if k == 27\u001b[0m\n\u001b[1;37m              ^\u001b[0m\n\u001b[1;31mSyntaxError\u001b[0m\u001b[1;31m:\u001b[0m invalid syntax\n"
     ]
    }
   ],
   "source": [
    "import numpy as np\n",
    "import cv2\n",
    "img = cv2.imread('shutterstock_301585967.jpg',0)\n",
    "cv2.imshow('image',img)\n",
    "k = cv2.waitKey(0)\n",
    "if k == 27\n",
    "cv2.destroyAllWindows()\n",
    "elif k == ord('s'):\n",
    "cv2.imwrite(''shutterstock_301585967.png',img)\n",
    "cv2.destroyAllWindows()\n"
   ]
  },
  {
   "cell_type": "code",
   "execution_count": null,
   "metadata": {},
   "outputs": [],
   "source": [
    "import numpy as np\n",
    "import cv2\n",
    "from matplotlib import pyplot as plt\n",
    "img = cv2.imread('shutterstock_301585967.jpg',0)\n",
    "plt.imshow(img, cmap = 'gray', interpolation = 'bicubic')\n",
    "plt.xticks([]), plt.yticks([])\n",
    "plt.show()\n"
   ]
  },
  {
   "cell_type": "markdown",
   "metadata": {},
   "source": [
    "# 1.2.2"
   ]
  },
  {
   "cell_type": "code",
   "execution_count": null,
   "metadata": {},
   "outputs": [],
   "source": [
    "import numpy as np\n",
    "import cv2\n",
    "cap = cv2.VideoCapture(0)\n",
    "while(True):\n",
    "# Capture frame-by-frame\n",
    "ret, frame = cap.read()\n",
    "# Our operations on the frame come here\n",
    "gray = cv2.cvtColor(frame, cv2.COLOR_BGR2GRAY)\n",
    "# Display the resulting frame\n",
    "cv2.imshow('frame',gray)\n",
    "if cv2.waitKey(1) & 0xFF == ord('q'):\n",
    "break\n",
    "# When everything done, release the capture\n",
    "cap.release()\n",
    "cv2.destroyAllWindows()"
   ]
  },
  {
   "cell_type": "code",
   "execution_count": null,
   "metadata": {},
   "outputs": [],
   "source": [
    "import numpy as np\n",
    "import cv2\n",
    "cap = cv2.VideoCapture('vtest.avi')\n",
    "while(cap.isOpened()):\n",
    "ret, frame = cap.read()\n",
    "gray = cv2.cvtColor(frame, cv2.COLOR_BGR2GRAY)\n",
    "cv2.imshow('frame',gray)\n",
    "if cv2.waitKey(1) & 0xFF == ord('q'):\n",
    "break\n",
    "cap.release()\n",
    "cv2.destroyAllWindows()"
   ]
  },
  {
   "cell_type": "markdown",
   "metadata": {},
   "source": [
    "# Playing Video from file"
   ]
  },
  {
   "cell_type": "code",
   "execution_count": null,
   "metadata": {},
   "outputs": [],
   "source": [
    "import numpy as np\n",
    "import cv2\n",
    "cap = cv2.VideoCapture('vtest.avi')\n",
    "while(cap.isOpened()):\n",
    "ret, frame = cap.read()\n",
    "gray = cv2.cvtColor(frame, cv2.COLOR_BGR2GRAY)\n",
    "cv2.imshow('frame',gray)\n",
    "if cv2.waitKey(1) & 0xFF == ord('q'):\n",
    "break\n",
    "cap.release()\n",
    "cv2.destroyAllWindows()"
   ]
  },
  {
   "cell_type": "markdown",
   "metadata": {},
   "source": [
    "# Saving Video"
   ]
  },
  {
   "cell_type": "code",
   "execution_count": null,
   "metadata": {},
   "outputs": [],
   "source": [
    "import numpy as np\n",
    "import cv2\n",
    "cap = cv2.VideoCapture(0)\n",
    "# Define the codec and create VideoWriter object\n",
    "fourcc = cv2.VideoWriter_fourcc(*'XVID')\n",
    "out = cv2.VideoWriter('output.avi',fourcc, 20.0, (640,480))\n",
    "while(cap.isOpened()):\n",
    "ret, frame = cap.read()\n",
    "if ret==True:\n",
    "frame = cv2.flip(frame,0)\n",
    "# write the flipped frame\n",
    "out.write(frame)\n",
    "cv2.imshow('frame',frame)\n",
    "if cv2.waitKey(1) & 0xFF == ord('q'):\n",
    "break\n",
    "else:\n",
    "break\n",
    "# Release everything if job is finished\n",
    "cap.release()\n",
    "out.release()\n",
    "cv2.destroyAllWindows()\n"
   ]
  },
  {
   "cell_type": "markdown",
   "metadata": {},
   "source": [
    "# 1.2.3"
   ]
  },
  {
   "cell_type": "code",
   "execution_count": 8,
   "metadata": {},
   "outputs": [],
   "source": [
    "import numpy as np\n",
    "import cv2\n",
    "from matplotlib import pyplot as plt\n",
    "\n",
    "# Create a black image\n",
    "img = np.zeros((512,512,3), np.uint8)\n",
    "# Draw a diagonal blue line with thickness of 5 px\n",
    "img = cv2.line(img,(0,0),(511,511),(255,0,0),5)"
   ]
  },
  {
   "cell_type": "code",
   "execution_count": 9,
   "metadata": {},
   "outputs": [],
   "source": [
    "img = cv2.rectangle(img,(384,0),(510,128),(0,255,0),3)"
   ]
  },
  {
   "cell_type": "code",
   "execution_count": 10,
   "metadata": {},
   "outputs": [
    {
     "data": {
      "image/png": "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\n",
      "text/plain": [
       "<Figure size 432x288 with 1 Axes>"
      ]
     },
     "metadata": {},
     "output_type": "display_data"
    }
   ],
   "source": [
    "plt.imshow(img, cmap = 'gray', interpolation = 'bicubic')\n",
    "plt.xticks([]), plt.yticks([]) \n",
    "plt.show()"
   ]
  },
  {
   "cell_type": "code",
   "execution_count": 12,
   "metadata": {},
   "outputs": [],
   "source": [
    "img = cv2.circle(img,(447,63), 63, (0,0,255), -1)"
   ]
  },
  {
   "cell_type": "code",
   "execution_count": 13,
   "metadata": {},
   "outputs": [
    {
     "data": {
      "image/png": "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\n",
      "text/plain": [
       "<Figure size 432x288 with 1 Axes>"
      ]
     },
     "metadata": {},
     "output_type": "display_data"
    }
   ],
   "source": [
    "plt.imshow(img, cmap = 'gray', interpolation = 'bicubic')\n",
    "plt.xticks([]), plt.yticks([]) \n",
    "plt.show()"
   ]
  },
  {
   "cell_type": "code",
   "execution_count": 14,
   "metadata": {},
   "outputs": [],
   "source": [
    "img = cv2.ellipse(img,(256,256),(100,50),0,0,180,255,-1)"
   ]
  },
  {
   "cell_type": "code",
   "execution_count": 15,
   "metadata": {},
   "outputs": [
    {
     "data": {
      "image/png": "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\n",
      "text/plain": [
       "<Figure size 432x288 with 1 Axes>"
      ]
     },
     "metadata": {},
     "output_type": "display_data"
    }
   ],
   "source": [
    "plt.imshow(img, cmap = 'gray', interpolation = 'bicubic')\n",
    "plt.xticks([]), plt.yticks([]) \n",
    "plt.show()"
   ]
  },
  {
   "cell_type": "code",
   "execution_count": 16,
   "metadata": {},
   "outputs": [],
   "source": [
    "pts = np.array([[10,5],[20,30],[70,20],[50,10]], np.int32)\n",
    "pts = pts.reshape((-1,1,2))\n",
    "img = cv2.polylines(img,[pts],True,(0,255,255))"
   ]
  },
  {
   "cell_type": "code",
   "execution_count": 17,
   "metadata": {},
   "outputs": [
    {
     "data": {
      "text/plain": [
       "array([[[255,   0,   0],\n",
       "        [255,   0,   0],\n",
       "        [255,   0,   0],\n",
       "        ...,\n",
       "        [  0, 255,   0],\n",
       "        [  0, 255,   0],\n",
       "        [  0, 255,   0]],\n",
       "\n",
       "       [[255,   0,   0],\n",
       "        [255,   0,   0],\n",
       "        [255,   0,   0],\n",
       "        ...,\n",
       "        [  0, 255,   0],\n",
       "        [  0, 255,   0],\n",
       "        [  0, 255,   0]],\n",
       "\n",
       "       [[255,   0,   0],\n",
       "        [255,   0,   0],\n",
       "        [255,   0,   0],\n",
       "        ...,\n",
       "        [  0, 255,   0],\n",
       "        [  0, 255,   0],\n",
       "        [  0, 255,   0]],\n",
       "\n",
       "       ...,\n",
       "\n",
       "       [[  0,   0,   0],\n",
       "        [  0,   0,   0],\n",
       "        [  0,   0,   0],\n",
       "        ...,\n",
       "        [255,   0,   0],\n",
       "        [255,   0,   0],\n",
       "        [255,   0,   0]],\n",
       "\n",
       "       [[  0,   0,   0],\n",
       "        [  0,   0,   0],\n",
       "        [  0,   0,   0],\n",
       "        ...,\n",
       "        [255,   0,   0],\n",
       "        [255,   0,   0],\n",
       "        [255,   0,   0]],\n",
       "\n",
       "       [[  0,   0,   0],\n",
       "        [  0,   0,   0],\n",
       "        [  0,   0,   0],\n",
       "        ...,\n",
       "        [255,   0,   0],\n",
       "        [255,   0,   0],\n",
       "        [255,   0,   0]]], dtype=uint8)"
      ]
     },
     "execution_count": 17,
     "metadata": {},
     "output_type": "execute_result"
    }
   ],
   "source": [
    "font = cv2.FONT_HERSHEY_SIMPLEX\n",
    "cv2.putText(img,'OpenCV',(10,500), font, 4,(255,255,255),2,cv2.LINE_AA)"
   ]
  },
  {
   "cell_type": "code",
   "execution_count": 18,
   "metadata": {},
   "outputs": [
    {
     "data": {
      "image/png": "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\n",
      "text/plain": [
       "<Figure size 432x288 with 1 Axes>"
      ]
     },
     "metadata": {},
     "output_type": "display_data"
    }
   ],
   "source": [
    "plt.imshow(img, cmap = 'gray', interpolation = 'bicubic')\n",
    "plt.xticks([]), plt.yticks([]) \n",
    "plt.show()"
   ]
  },
  {
   "cell_type": "markdown",
   "metadata": {},
   "source": [
    "# 1.2.4"
   ]
  },
  {
   "cell_type": "code",
   "execution_count": 22,
   "metadata": {},
   "outputs": [],
   "source": [
    "import cv2\n",
    "import numpy as np\n",
    "# mouse callback function\n",
    "def draw_circle(event,x,y,flags,param):\n",
    "    if event == cv2.EVENT_LBUTTONDBLCLK:\n",
    "        cv2.circle(img,(x,y),100,(255,0,0),-1)\n",
    "# Create a black image, a window and bind the function to window\n",
    "img = np.zeros((512,512,3), np.uint8)\n",
    "cv2.namedWindow('image')\n",
    "cv2.setMouseCallback('image',draw_circle)\n",
    "while(1):\n",
    "    cv2.imshow('image',img)\n",
    "    if cv2.waitKey(20) & 0xFF == 27:\n",
    "        break\n",
    "cv2.destroyAllWindows()"
   ]
  },
  {
   "cell_type": "markdown",
   "metadata": {},
   "source": [
    "# More Advanced Demo"
   ]
  },
  {
   "cell_type": "code",
   "execution_count": null,
   "metadata": {},
   "outputs": [],
   "source": [
    "import cv2\n",
    "import numpy as np\n",
    "drawing = False # true if mouse is pressed\n",
    "mode = True # if True, draw rectangle. Press 'm' to toggle to curve\n",
    "ix,iy = -1,-1\n",
    "# mouse callback function\n",
    "def draw_circle(event,x,y,flags,param):\n",
    "    global ix,iy,drawing,mode\n",
    "    if event == cv2.EVENT_LBUTTONDOWN:\n",
    "        drawing = True\n",
    "        ix,iy = x,y\n",
    "    elif event == cv2.EVENT_MOUSEMOVE:\n",
    "        if drawing == True:\n",
    "            if mode == True:\n",
    "                cv2.rectangle(img,(ix,iy),(x,y),(0,255,0),-1)\n",
    "            else:\n",
    "                cv2.circle(img,(x,y),5,(0,0,255),-1)\n",
    "    elif event == cv2.EVENT_LBUTTONUP:\n",
    "        drawing = False\n",
    "        if mode == True:\n",
    "            cv2.rectangle(img,(ix,iy),(x,y),(0,255,0),-1)\n",
    "        else:\n",
    "            cv2.circle(img,(x,y),5,(0,0,255),-1)\n"
   ]
  },
  {
   "cell_type": "code",
   "execution_count": null,
   "metadata": {},
   "outputs": [],
   "source": [
    "img = np.zeros((512,512,3), np.uint8)\n",
    "cv2.namedWindow('image')\n",
    "cv2.setMouseCallback('image',draw_circle)\n",
    "while(1):\n",
    "    cv2.imshow('image',img)\n",
    "    k = cv2.waitKey(1) & 0xFF\n",
    "    if k == ord('m'):\n",
    "        mode = not mode\n",
    "    elif k == 27:\n",
    "        break\n",
    "cv2.destroyAllWindows()"
   ]
  },
  {
   "cell_type": "markdown",
   "metadata": {},
   "source": [
    "# 1.2.5"
   ]
  },
  {
   "cell_type": "code",
   "execution_count": 26,
   "metadata": {},
   "outputs": [],
   "source": [
    "import cv2\n",
    "import numpy as np\n",
    "def nothing(x):\n",
    "    pass\n",
    "# Create a black image, a window\n",
    "img = np.zeros((300,512,3), np.uint8)\n",
    "cv2.namedWindow('image')\n",
    "# create trackbars for color change\n",
    "cv2.createTrackbar('R','image',0,255,nothing)\n",
    "cv2.createTrackbar('G','image',0,255,nothing)\n",
    "cv2.createTrackbar('B','image',0,255,nothing)\n",
    "# create switch for ON/OFF functionality\n",
    "switch = '0 : OFF \\n1 : ON'\n",
    "cv2.createTrackbar(switch, 'image',0,1,nothing)\n",
    "while(1):\n",
    "    cv2.imshow('image',img)\n",
    "    k = cv2.waitKey(1) & 0xFF\n",
    "    if k == 27:\n",
    "        break\n",
    "    # get current positions of four trackbars\n",
    "    r = cv2.getTrackbarPos('R','image')\n",
    "    g = cv2.getTrackbarPos('G','image')\n",
    "    b = cv2.getTrackbarPos('B','image')\n",
    "    s = cv2.getTrackbarPos(switch,'image')\n",
    "    if s == 0:\n",
    "        img[:] = 0\n",
    "    else:\n",
    "        img[:] = [b,g,r]\n",
    "cv2.destroyAllWindows()"
   ]
  },
  {
   "cell_type": "code",
   "execution_count": null,
   "metadata": {},
   "outputs": [],
   "source": []
  }
 ],
 "metadata": {
  "kernelspec": {
   "display_name": "Python 3",
   "language": "python",
   "name": "python3"
  },
  "language_info": {
   "codemirror_mode": {
    "name": "ipython",
    "version": 3
   },
   "file_extension": ".py",
   "mimetype": "text/x-python",
   "name": "python",
   "nbconvert_exporter": "python",
   "pygments_lexer": "ipython3",
<<<<<<< HEAD
   "version": "3.8.3"
=======
   "version": "3.7.6"
>>>>>>> 91eba31634db4f42b804d3e7703bb951d781eda4
  }
 },
 "nbformat": 4,
 "nbformat_minor": 4
}
