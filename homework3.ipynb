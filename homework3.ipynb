{
 "cells": [
  {
   "cell_type": "code",
   "execution_count": 2,
   "metadata": {},
   "outputs": [],
   "source": [
    "import cv2\n",
    "import numpy as np\n",
    "\n",
    "img = cv2.imread('./image/sIMG_8253.jpg',)\n",
    "\n",
    "rows,cols,ch = img.shape\n",
    "pts1 = np.float32([[10,40],[19,735],[998,35],[994,732]])\n",
    "pts2 = np.float32([[0,0],[0,768],[1024,0],[1024,768]])\n",
    "M = cv2.getPerspectiveTransform(pts1,pts2)\n",
    "img = cv2.warpPerspective(img,M,(cols,rows))\n",
    "\n",
    "#img = cv2.resize(img, dsize=(494,492), interpolation=cv2.INTER_AREA)\n",
    "img_g = cv2.cvtColor(img, cv2.COLOR_BGR2GRAY) # 흑백\n",
    "\n",
    "img_g_blur = cv2.GaussianBlur(img_g, (7, 7), 0)\n",
    "img_thresh = cv2.adaptiveThreshold(img_g_blur, 255, cv2.ADAPTIVE_THRESH_GAUSSIAN_C, cv2.THRESH_BINARY_INV, 45, 6)\n",
    "\n",
    "\n",
    "\n",
    "kernel = np.ones((3, 3), np.uint8)\n",
    "closing = cv2.morphologyEx(img_thresh, cv2.MORPH_CLOSE, kernel, iterations = 20)\n",
    "\n",
    "\n",
    "\n",
    "\n",
    "cont_img = closing.copy()\n",
    "contours, _ = cv2.findContours(cont_img, cv2.RETR_EXTERNAL, cv2.CHAIN_APPROX_SIMPLE)\n",
    "\n",
    "for cnt in contours :\n",
    "    area = cv2.contourArea(cnt)\n",
    "    if area < 2000 or area > 8000 : continue\n",
    "    if len(cnt) < 5 : continue\n",
    "    \n",
    "    ellipse = cv2.fitEllipse(cnt)\n",
    "    cv2.ellipse(img, ellipse, (0, 255, 0), 2)\n",
    "\n",
    "cv2.imshow('img_thresh',img_thresh)\n",
    "cv2.imshow('cont_img',cont_img)\n",
    "cv2.imshow('img',img)\n",
    "k = cv2.waitKey(0)\n",
    "cv2.destroyAllWindows()\n"
   ]
  },
  {
   "cell_type": "code",
   "execution_count": null,
   "metadata": {},
   "outputs": [],
   "source": []
  }
 ],
 "metadata": {
  "kernelspec": {
   "display_name": "Python 3",
   "language": "python",
   "name": "python3"
  },
  "language_info": {
   "codemirror_mode": {
    "name": "ipython",
    "version": 3
   },
   "file_extension": ".py",
   "mimetype": "text/x-python",
   "name": "python",
   "nbconvert_exporter": "python",
   "pygments_lexer": "ipython3",
   "version": "3.8.3"
  }
 },
 "nbformat": 4,
 "nbformat_minor": 4
}
