{
 "cells": [
  {
   "cell_type": "markdown",
   "metadata": {},
   "source": [
    "# 1.4.4 Smoothing Images"
   ]
  },
  {
   "cell_type": "markdown",
   "metadata": {},
   "source": [
    "## Kernel Convolution"
   ]
  },
  {
   "cell_type": "code",
   "execution_count": 14,
   "metadata": {},
   "outputs": [],
   "source": [
    "import cv2\n",
    "import numpy as np\n",
    "from matplotlib import pyplot as plt"
   ]
  },
  {
   "cell_type": "code",
   "execution_count": 15,
   "metadata": {},
   "outputs": [],
   "source": [
    "l=1\n",
    "kernel = np.array([[0,-1,0],[-1,4,-1],[0,-1,0]],np.float32)"
   ]
  },
  {
   "cell_type": "code",
   "execution_count": 16,
   "metadata": {},
   "outputs": [
    {
     "data": {
      "text/plain": [
       "array([[ 0., -1.,  0.],\n",
       "       [-1.,  4., -1.],\n",
       "       [ 0., -1.,  0.]], dtype=float32)"
      ]
     },
     "execution_count": 16,
     "metadata": {},
     "output_type": "execute_result"
    }
   ],
   "source": [
    "kernel"
   ]
  },
  {
   "cell_type": "code",
   "execution_count": 17,
   "metadata": {},
   "outputs": [],
   "source": [
    "img = np.random.randint(10, size=(12,12))\n",
    "#img = np.ones((10,10),np.float32)"
   ]
  },
  {
   "cell_type": "code",
   "execution_count": 18,
   "metadata": {},
   "outputs": [
    {
     "data": {
      "text/plain": [
       "array([[4, 6, 6, 1, 9, 5, 2, 5, 7, 5, 5, 5],\n",
       "       [3, 0, 0, 6, 9, 9, 3, 7, 4, 9, 3, 9],\n",
       "       [5, 9, 7, 1, 7, 1, 9, 8, 8, 7, 3, 2],\n",
       "       [9, 8, 8, 3, 6, 7, 8, 0, 3, 5, 2, 9],\n",
       "       [6, 1, 5, 2, 1, 9, 9, 1, 9, 3, 9, 2],\n",
       "       [4, 6, 3, 1, 6, 1, 2, 2, 1, 3, 7, 2],\n",
       "       [8, 8, 8, 6, 6, 2, 8, 7, 5, 2, 3, 8],\n",
       "       [8, 5, 6, 1, 4, 5, 1, 9, 1, 7, 7, 9],\n",
       "       [1, 8, 5, 9, 2, 0, 0, 8, 4, 3, 0, 9],\n",
       "       [6, 4, 7, 5, 2, 4, 3, 5, 9, 9, 4, 6],\n",
       "       [6, 0, 6, 3, 1, 1, 8, 8, 5, 5, 4, 5],\n",
       "       [9, 2, 8, 4, 5, 4, 5, 0, 2, 2, 1, 1]])"
      ]
     },
     "execution_count": 18,
     "metadata": {},
     "output_type": "execute_result"
    }
   ],
   "source": [
    "img"
   ]
  },
  {
   "cell_type": "code",
   "execution_count": 19,
   "metadata": {},
   "outputs": [],
   "source": [
    "h,w=img.shape"
   ]
  },
  {
   "cell_type": "code",
   "execution_count": 20,
   "metadata": {},
   "outputs": [
    {
     "name": "stdout",
     "output_type": "stream",
     "text": [
      "12 12\n"
     ]
    }
   ],
   "source": [
    "print(h,w)"
   ]
  },
  {
   "cell_type": "code",
   "execution_count": 21,
   "metadata": {},
   "outputs": [],
   "source": [
    "#[*range(-2,3)]"
   ]
  },
  {
   "cell_type": "code",
   "execution_count": 22,
   "metadata": {},
   "outputs": [],
   "source": [
    "dst = np.zeros((h,w),np.int)"
   ]
  },
  {
   "cell_type": "code",
   "execution_count": 23,
   "metadata": {},
   "outputs": [],
   "source": [
    "for i in range(l,h-l):\n",
    "    for j in range(l,w-l):\n",
    "        t=0\n",
    "        for p in range(-l,l+1):\n",
    "            for q in range(-l,l+1):\n",
    "                t += kernel[p+l,q+l]*img[i+p,j+q]\n",
    "        dst[i,j]=t        "
   ]
  },
  {
   "cell_type": "code",
   "execution_count": 24,
   "metadata": {},
   "outputs": [
    {
     "data": {
      "text/plain": [
       "array([[4, 6, 6, 1, 9, 5, 2, 5, 7, 5, 5, 5],\n",
       "       [3, 0, 0, 6, 9, 9, 3, 7, 4, 9, 3, 9],\n",
       "       [5, 9, 7, 1, 7, 1, 9, 8, 8, 7, 3, 2],\n",
       "       [9, 8, 8, 3, 6, 7, 8, 0, 3, 5, 2, 9],\n",
       "       [6, 1, 5, 2, 1, 9, 9, 1, 9, 3, 9, 2],\n",
       "       [4, 6, 3, 1, 6, 1, 2, 2, 1, 3, 7, 2],\n",
       "       [8, 8, 8, 6, 6, 2, 8, 7, 5, 2, 3, 8],\n",
       "       [8, 5, 6, 1, 4, 5, 1, 9, 1, 7, 7, 9],\n",
       "       [1, 8, 5, 9, 2, 0, 0, 8, 4, 3, 0, 9],\n",
       "       [6, 4, 7, 5, 2, 4, 3, 5, 9, 9, 4, 6],\n",
       "       [6, 0, 6, 3, 1, 1, 8, 8, 5, 5, 4, 5],\n",
       "       [9, 2, 8, 4, 5, 4, 5, 0, 2, 2, 1, 1]])"
      ]
     },
     "execution_count": 24,
     "metadata": {},
     "output_type": "execute_result"
    }
   ],
   "source": [
    "img"
   ]
  },
  {
   "cell_type": "code",
   "execution_count": 25,
   "metadata": {},
   "outputs": [
    {
     "data": {
      "text/plain": [
       "array([[  0,   0,   0,   0,   0,   0,   0,   0,   0,   0,   0,   0],\n",
       "       [  0, -18, -19,  13,   5,  18, -15,   8, -15,  17, -14,   0],\n",
       "       [  0,  16,  10, -19,  11, -28,  16,   8,  10,   3,  -2,   0],\n",
       "       [  0,   5,   9,  -5,   6,   4,   7, -20, -10,   5, -18,   0],\n",
       "       [  0, -21,   6,  -2, -19,  18,  16, -16,  28, -14,  22,   0],\n",
       "       [  0,   8,  -8, -13,  15, -15, -12,  -3, -15,  -1,  11,   0],\n",
       "       [  0,   5,   9,   8,   6, -12,  20,   4,   9, -10, -12,   0],\n",
       "       [  0, -10,   5, -21,   2,  13, -18,  19, -21,  15,   9,   0],\n",
       "       [  0,  17, -10,  23,  -7, -11, -12,  14,  -5,  -8, -23,   0],\n",
       "       [  0,  -5,   8,  -1,  -4,  10,  -5,  -8,  13,  15,  -3,   0],\n",
       "       [  0, -18,   6,  -4,  -7, -13,  15,  14,  -4,   0,   1,   0],\n",
       "       [  0,   0,   0,   0,   0,   0,   0,   0,   0,   0,   0,   0]])"
      ]
     },
     "execution_count": 25,
     "metadata": {},
     "output_type": "execute_result"
    }
   ],
   "source": [
    "dst"
   ]
  },
  {
   "cell_type": "code",
   "execution_count": 32,
   "metadata": {},
   "outputs": [],
   "source": [
    "img = cv2.imread('lena.png', 0)"
   ]
  },
  {
   "cell_type": "code",
   "execution_count": 33,
   "metadata": {},
   "outputs": [],
   "source": [
    "h,w=img.shape"
   ]
  },
  {
   "cell_type": "code",
   "execution_count": 34,
   "metadata": {},
   "outputs": [],
   "source": [
    "dst = np.zeros((h-2*l,w-2*l),np.uint8)"
   ]
  },
  {
   "cell_type": "code",
   "execution_count": 35,
   "metadata": {},
   "outputs": [],
   "source": [
    "for i in range(l,h-l):\n",
    "    for j in range(l,w-l):\n",
    "        t=0\n",
    "        for p in range(-l,l+1):\n",
    "            for q in range(-l,l+1):\n",
    "                t += kernel[p+l,q+l]*img[i+p,j+q]\n",
    "        dst[i-l,j-l]=t "
   ]
  },
  {
   "cell_type": "code",
   "execution_count": 36,
   "metadata": {},
   "outputs": [],
   "source": [
    "cv2.imshow('img',img)\n",
    "cv2.imshow('dst',dst)\n",
    "cv2.waitKey(0)\n",
    "cv2.destroyAllWindows()"
   ]
  },
  {
   "cell_type": "code",
   "execution_count": null,
   "metadata": {},
   "outputs": [],
   "source": []
  },
  {
   "cell_type": "code",
   "execution_count": null,
   "metadata": {},
   "outputs": [],
   "source": []
  },
  {
   "cell_type": "code",
   "execution_count": null,
   "metadata": {},
   "outputs": [],
   "source": []
  }
 ],
 "metadata": {
  "kernelspec": {
   "display_name": "Python 3",
   "language": "python",
   "name": "python3"
  },
  "language_info": {
   "codemirror_mode": {
    "name": "ipython",
    "version": 3
   },
   "file_extension": ".py",
   "mimetype": "text/x-python",
   "name": "python",
   "nbconvert_exporter": "python",
   "pygments_lexer": "ipython3",
   "version": "3.8.3"
  }
 },
 "nbformat": 4,
 "nbformat_minor": 4
}
