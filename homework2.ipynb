{
 "cells": [
  {
   "cell_type": "markdown",
   "metadata": {},
   "source": [
    "# 1.4.1 Changing Colorspaces"
   ]
  },
  {
   "cell_type": "code",
   "execution_count": 18,
   "metadata": {},
   "outputs": [],
   "source": [
    "## 트래킹\n",
    "# 제일 많이쓰는건 HSV\n",
    "# H 0~360 색종류\n",
    "# S 0~100 밝기?\n",
    "# V 0~100 명암?"
   ]
  },
  {
   "cell_type": "code",
   "execution_count": 9,
   "metadata": {},
   "outputs": [],
   "source": [
    "import cv2\n",
    "import numpy as np\n",
    "\n",
    "cap = cv2.VideoCapture('tracking1.avi')\n",
    "while(1):\n",
    "    # Take each frame\n",
    "    # _, frame = cap.read() # _는 필요없어 버림\n",
    "    ret, frame = cap.read()\n",
    "    if ret==True:\n",
    "        hsv = cv2.cvtColor(frame, cv2.COLOR_BGR2HSV)\n",
    "        # define range of blue color in HSV\n",
    "        lower_blue = np.array([0, 40, 50])\n",
    "        upper_blue = np.array([20, 60, 60])\n",
    "        #120, 30, 30\n",
    "        #0, 60, 40\n",
    "        # Threshold the HSV image to get only blue colors\n",
    "        mask = cv2.inRange(hsv, lower_blue, upper_blue)\n",
    "        # Bitwise-AND mask and original image\n",
    "        res = cv2.bitwise_and(frame,frame, mask= mask)\n",
    "        cv2.imshow('frame',frame)\n",
    "        cv2.imshow('mask',mask)\n",
    "        cv2.imshow('res',res)\n",
    "    k = cv2.waitKey(100) & 0xFF\n",
    "    if k == 27:\n",
    "        break\n",
    "cv2.destroyAllWindows()"
   ]
  },
  {
   "cell_type": "markdown",
   "metadata": {},
   "source": [
    "# with Trackbar"
   ]
  },
  {
   "cell_type": "code",
   "execution_count": 6,
   "metadata": {},
   "outputs": [],
   "source": [
    "import cv2\n",
    "import numpy as np\n",
    "\n",
    "def nothing(x):\n",
    "    pass\n",
    "\n",
    "cv2.namedWindow('image')\n",
    "\n",
    "# create trackbars for color change\n",
    "cv2.createTrackbar('hue','image',0,360,nothing)\n",
    "cv2.createTrackbar('S','image',0,100,nothing)\n",
    "cv2.createTrackbar('V','image',0,100,nothing)\n",
    "\n",
    "cap = cv2.VideoCapture('tracking1.avi')\n",
    "font = cv2.FONT_HERSHEY_SIMPLEX\n",
    "while(1):\n",
    "    hue = cv2.getTrackbarPos('hue','image')\n",
    "    S = cv2.getTrackbarPos('S','image')\n",
    "    V = cv2.getTrackbarPos('V','image')\n",
    "    # _, frame = cap.read() _는 필요없어 버림\n",
    "    ret, frame = cap.read()\n",
    "    if ret==True:\n",
    "        hsv = cv2.cvtColor(frame, cv2.COLOR_BGR2HSV)\n",
    "        # define range of blue color in HSV\n",
    "        lower_blue = np.array([hue-50, S-50, V-50])\n",
    "        upper_blue = np.array([hue+50, S+50, V+50])\n",
    "        #183, 100, 100\n",
    "        # Threshold the HSV image to get only blue colors\n",
    "        mask = cv2.inRange(hsv, lower_blue, upper_blue)\n",
    "        # Bitwise-AND mask and original image\n",
    "        res = cv2.bitwise_and(frame,frame, mask= mask)\n",
    "        \n",
    "        msg = \"hue: \"+str(hue)+\" S: \"+str(S)+\" V: \"+str(V)\n",
    "        cv2.putText(frame,msg,(10,30),font,.6,(255,255,255),1,cv2.LINE_AA)\n",
    "        cv2.putText(mask,msg,(10,30),font,.6,(255,255,255),1,cv2.LINE_AA)\n",
    "        cv2.putText(res,msg,(10,30),font,.6,(255,255,255),1,cv2.LINE_AA)\n",
    "        cv2.imshow('image',frame)\n",
    "        cv2.imshow('mask',mask)\n",
    "        cv2.imshow('res',res)\n",
    "    k = cv2.waitKey(100) & 0xFF\n",
    "    if k == 27:\n",
    "        break\n",
    "cv2.destroyAllWindows()"
   ]
  }
 ],
 "metadata": {
  "kernelspec": {
   "display_name": "Python 3",
   "language": "python",
   "name": "python3"
  },
  "language_info": {
   "codemirror_mode": {
    "name": "ipython",
    "version": 3
   },
   "file_extension": ".py",
   "mimetype": "text/x-python",
   "name": "python",
   "nbconvert_exporter": "python",
   "pygments_lexer": "ipython3",
   "version": "3.7.7"
  }
 },
 "nbformat": 4,
 "nbformat_minor": 4
}
