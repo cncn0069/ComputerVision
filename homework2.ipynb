{
 "cells": [
  {
   "cell_type": "markdown",
   "metadata": {},
   "source": [
    "# 1.4.1 Changing Colorspaces"
   ]
  },
  {
   "cell_type": "code",
   "execution_count": 12,
   "metadata": {},
   "outputs": [],
   "source": [
    "import cv2\n",
    "import numpy as np\n",
    "cap = cv2.VideoCapture('./image/tracking1.avi')\n",
    "while(1):\n",
    "    ret, frame = cap.read()\n",
    "    if ret==True:\n",
    "        hsv = cv2.cvtColor(frame, cv2.COLOR_BGR2HSV) # BGR->HSV로 변환\n",
    "        # define range of blue color in HSV\n",
    "        lower_red = np.array([-10, 100, 110])\n",
    "        upper_red = np.array([10, 255, 255]) \n",
    "        #120, 30, 30\n",
    "        #0, 60, 40\n",
    "        # 임계값 빨강색을 추출하기 위한\n",
    "        mask = cv2.inRange(hsv, lower_red, upper_red)\n",
    "        # 원본과 비트 연산\n",
    "        res = cv2.bitwise_and(frame,frame, mask= mask)\n",
    "        \n",
    "        cv2.imshow('frame',frame)\n",
    "        cv2.imshow('mask',mask)\n",
    "        cv2.imshow('res',res)\n",
    "    k = cv2.waitKey(100) & 0xFF\n",
    "    if k == 27:\n",
    "        break\n",
    "cv2.destroyAllWindows()"
   ]
  },
  {
   "cell_type": "code",
   "execution_count": null,
   "metadata": {},
   "outputs": [],
   "source": [
    "# with Trackbar"
   ]
  },
  {
   "cell_type": "code",
   "execution_count": null,
   "metadata": {},
   "outputs": [],
   "source": [
    "import cv2\n",
    "import numpy as np\n",
    "\n",
    "def nothing(x):\n",
    "    pass\n",
    "\n",
    "cv2.namedWindow('image')\n",
    "\n",
    "# create trackbars for color change\n",
    "cv2.createTrackbar('hue','image',0,360,nothing)\n",
    "cv2.createTrackbar('S','image',0,255,nothing)\n",
    "cv2.createTrackbar('V','image',0,255,nothing)\n",
    "\n",
    "cap = cv2.VideoCapture('./image/tracking1.avi')\n",
    "font = cv2.FONT_HERSHEY_SIMPLEX\n",
    "while(1):\n",
    "    hue = cv2.getTrackbarPos('hue','image')\n",
    "    S = cv2.getTrackbarPos('S','image')\n",
    "    V = cv2.getTrackbarPos('V','image')\n",
    "    # _, frame = cap.read() _는 필요없어 버림\n",
    "    ret, frame = cap.read()\n",
    "    if ret==True:\n",
    "        hsv = cv2.cvtColor(frame, cv2.COLOR_BGR2HSV)\n",
    "        # define range of blue color in HSV\n",
    "        lower_blue = np.array([hue-50, S-50, V-50])\n",
    "        upper_blue = np.array([hue+50, S+50, V+50])\n",
    "        #183, 100, 100\n",
    "        # Threshold the HSV image to get only blue colors\n",
    "        mask = cv2.inRange(hsv, lower_blue, upper_blue)\n",
    "        # Bitwise-AND mask and original image\n",
    "        res = cv2.bitwise_and(frame,frame, mask= mask)\n",
    "        \n",
    "        msg = \"hue: \"+str(hue)+\" S: \"+str(S)+\" V: \"+str(V)\n",
    "        cv2.putText(frame,msg,(10,30),font,.6,(255,255,255),1,cv2.LINE_AA)\n",
    "        cv2.putText(mask,msg,(10,30),font,.6,(255,255,255),1,cv2.LINE_AA)\n",
    "        cv2.putText(res,msg,(10,30),font,.6,(255,255,255),1,cv2.LINE_AA)\n",
    "        cv2.imshow('image',frame)\n",
    "        cv2.imshow('mask',mask)\n",
    "        cv2.imshow('res',res)\n",
    "    k = cv2.waitKey(100) & 0xFF\n",
    "    if k == 27:\n",
    "        break\n",
    "cv2.destroyAllWindows()"
   ]
  },
  {
   "cell_type": "code",
   "execution_count": null,
   "metadata": {},
   "outputs": [],
   "source": []
  }
 ],
 "metadata": {
  "kernelspec": {
   "display_name": "Python 3",
   "language": "python",
   "name": "python3"
  },
  "language_info": {
   "codemirror_mode": {
    "name": "ipython",
    "version": 3
   },
   "file_extension": ".py",
   "mimetype": "text/x-python",
   "name": "python",
   "nbconvert_exporter": "python",
   "pygments_lexer": "ipython3",
   "version": "3.8.3"
  }
 },
 "nbformat": 4,
 "nbformat_minor": 4
}
