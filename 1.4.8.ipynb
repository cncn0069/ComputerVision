{
 "cells": [
  {
   "cell_type": "code",
   "execution_count": 18,
   "metadata": {},
   "outputs": [],
   "source": [
    "import cv2\n",
    "import numpy as np\n",
    "from matplotlib import pyplot as plt\n",
    "\n",
    "img = cv2.imread('./image/messi.jpg')\n",
    "img2 = cv2.pyrDown(img)\n",
    "img3 = cv2.pyrDown(img2)\n",
    "\n",
    "cv2.imshow('image',img)\n",
    "cv2.imshow('image2',img2)\n",
    "cv2.imshow('image3',img3)\n",
    "cv2.waitKey(0)\n",
    "cv2.destroyAllWindows()\n"
   ]
  },
  {
   "cell_type": "code",
   "execution_count": 20,
   "metadata": {},
   "outputs": [],
   "source": [
    "img = cv2.resize(img, dsize=(100, 200), interpolation=cv2.INTER_AREA)\n",
    "\n",
    "edges = cv2.Canny(img, 100, 200)\n",
    "edges1 = cv2.Canny(img2, 100, 200)\n",
    "edges2 = cv2.Canny(img3, 100, 200)\n",
    "\n",
    "cv2.imshow('image',edges)\n",
    "cv2.imshow('image1',edges1)\n",
    "cv2.imshow('image2',edges2)\n",
    "cv2.waitKey(0)\n",
    "cv2.destroyAllWindows()"
   ]
  },
  {
   "cell_type": "code",
   "execution_count": null,
   "metadata": {},
   "outputs": [],
   "source": []
  }
 ],
 "metadata": {
  "kernelspec": {
   "display_name": "Python 3",
   "language": "python",
   "name": "python3"
  },
  "language_info": {
   "codemirror_mode": {
    "name": "ipython",
    "version": 3
   },
   "file_extension": ".py",
   "mimetype": "text/x-python",
   "name": "python",
   "nbconvert_exporter": "python",
   "pygments_lexer": "ipython3",
   "version": "3.8.3"
  }
 },
 "nbformat": 4,
 "nbformat_minor": 4
}
